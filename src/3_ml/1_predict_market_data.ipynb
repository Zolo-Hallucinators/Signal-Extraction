{
 "metadata": {
  "language_info": {
   "name": "python"
  },
  "lastEditStatus": {
   "notebookId": "zgfnjwoehjozse7igwfy",
   "authorId": "65353703147",
   "authorName": "ARAVINDSURESH03",
   "authorEmail": "aravind.ofcl8@gmail.com",
   "sessionId": "bad8f2c2-7bdc-4ce1-8932-490fed224ebd",
   "lastEditTime": 1759680648200
  }
 },
 "nbformat_minor": 5,
 "nbformat": 4,
 "cells": [
  {
   "cell_type": "markdown",
   "id": "66e71084-5d94-4374-b69b-01cd1fad938f",
   "metadata": {
    "collapsed": false,
    "name": "TitleCell"
   },
   "source": "# Market Data Snowpark ML Workflow"
  },
  {
   "cell_type": "markdown",
   "id": "d6f05a14-ed7b-4308-bc77-3e8172b24e46",
   "metadata": {
    "collapsed": false,
    "name": "PreRunActivity"
   },
   "source": "### Pre Run Activity\n- Make sure to tap the 3 dot icon on top left and enable the necessary 'External Access' integrations for the notebook.\n- Update the 'market_config.json' with the requirement before starting the run."
  },
  {
   "cell_type": "markdown",
   "id": "8e9259c8-e6f0-4952-9902-8404b53498b7",
   "metadata": {
    "collapsed": false,
    "name": "ConfigSetupMD"
   },
   "source": [
    "## Runtime Config Set-Up"
   ]
  },
  {
   "cell_type": "code",
   "execution_count": null,
   "id": "7ffbfec7-1c19-4e66-bd1c-f6bfef55f3c0",
   "metadata": {
    "language": "python",
    "name": "ConfigSetUp"
   },
   "outputs": [],
   "source": "GLOBAL_CONFIG_PATH = \"market_config.json\""
  },
  {
   "cell_type": "markdown",
   "id": "634f3090-c61e-4696-a576-14ae691d1435",
   "metadata": {
    "collapsed": false,
    "name": "ImportLibMD"
   },
   "source": [
    "### Importing Libraries"
   ]
  },
  {
   "cell_type": "code",
   "id": "7ba0dc1f-6b9e-4fe3-b389-a60234fa76d8",
   "metadata": {
    "language": "python",
    "name": "cell3"
   },
   "outputs": [],
   "source": "from snowflake.snowpark.functions import col\nfrom snowflake.ml.modeling.xgboost import XGBRegressor\nfrom snowflake.ml.modeling.metrics import mean_absolute_error, mean_squared_error\nimport pandas as pd\nfrom snowflake.snowpark import DataFrame as SnowparkDF",
   "execution_count": null
  },
  {
   "cell_type": "code",
   "id": "1606092b-e388-48b6-a93e-fb7dabd1da10",
   "metadata": {
    "language": "python",
    "name": "cell4",
    "codeCollapsed": false
   },
   "outputs": [],
   "source": "import json\ndef get_config(CONFIG_PATH):\n    with open(CONFIG_PATH) as f:\n        config = json.load(f)\n    return config\n\ndef get_config_snowflake():\n    config = get_config(GLOBAL_CONFIG_PATH)\n    config_snowflake = config[\"snowflake\"]\n    return config_snowflake\n    \nconfig = get_config(GLOBAL_CONFIG_PATH) #DEBUG\nconfig_snowflake = get_config_snowflake()\nconfig_snowflake",
   "execution_count": null
  },
  {
   "cell_type": "code",
   "execution_count": null,
   "id": "8d1e36b5-4ba8-4b9e-b2d6-05d662d8ff14",
   "metadata": {
    "language": "python",
    "name": "ImportLib",
    "codeCollapsed": false
   },
   "outputs": [],
   "source": "# from snowflake.snowpark.session import Session\nfrom snowflake.snowpark import Session\nfrom snowflake.snowpark.functions import col\n\n# Hard Coded for now\nuser_with_cloud = config_snowflake[\"user\"] + '.us-east-1.aws'\nt1 = \"CYWCXZB-EPC46775.snowflakecomputing.com\"\nt2 = \"CYWCXZB-EPC46775\"\nconnection_params = {\n    \"user\": config_snowflake[\"user\"],\n    \"password\" : config_snowflake[\"password\"],\n    \"account\": config_snowflake[\"account\"],\n    # \"authenticator\": \"externalbrowser\",\n    # \"role\": \"ACCOUNTADMIN\",\n    \"warehouse\": config_snowflake[\"warehouse\"],\n    \"database\": config_snowflake[\"database\"],\n    \"schema\": \"ANALYTICS\"\n}\n\nsession = Session.builder.configs(connection_params).create()\n"
  },
  {
   "cell_type": "markdown",
   "id": "5e6212bf-57f4-4097-af51-49b50d2b728b",
   "metadata": {
    "collapsed": false,
    "name": "MainCodeMD"
   },
   "source": [
    "## Main Code"
   ]
  },
  {
   "cell_type": "code",
   "execution_count": null,
   "id": "7d68cb81-c365-40fe-a5d3-af1aea7d0735",
   "metadata": {
    "codeCollapsed": false,
    "language": "python",
    "name": "ConfigLoad"
   },
   "outputs": [],
   "source": "# features_df = session.table(\"STAGING.VW_MODEL_READY_FEATURES\") \\\n#     .filter(col(\"next_day_close\").is_not_null()) \\\n#     .to_pandas()\n\n# features_df.head(5)"
  },
  {
   "cell_type": "code",
   "execution_count": null,
   "id": "a31cbd32-6636-4312-9902-7e2169e1ab38",
   "metadata": {
    "codeCollapsed": false,
    "language": "python",
    "name": "URLString"
   },
   "outputs": [],
   "source": "# # Select features and target\n# X = features_df.drop(columns=[\"NEXT_DAY_CLOSE\", \"NEXT_DAY_RETURN\", \"PRICE_DIRECTION\", \"FEATURE_ID\", \"DATE\", \"SYMBOL\", \"ENTITY_NAME\"])\n# y = features_df[\"NEXT_DAY_CLOSE\"]\n\n# from sklearn.model_selection import train_test_split\n# X_train, X_test, y_train, y_test = train_test_split(X, y, test_size=0.2, shuffle=False)\n"
  },
  {
   "cell_type": "code",
   "id": "1d46afb3-6304-448d-a80b-bde9c97e1c6f",
   "metadata": {
    "language": "python",
    "name": "cell5"
   },
   "outputs": [],
   "source": "# train_df = pd.concat([X_train.reset_index(drop=True), y_train.reset_index(drop=True)], axis=1)\n# train_snowpark = session.create_dataframe(train_df)\n\n# feature_cols = X_train.columns.tolist()\n# target_col = \"NEXT_DAY_CLOSE\"",
   "execution_count": null
  },
  {
   "cell_type": "code",
   "id": "8685c5b3-21de-4314-ab36-acc13c37004d",
   "metadata": {
    "language": "python",
    "name": "cell2"
   },
   "outputs": [],
   "source": "GLOBAL_VERSION_NAME = \"v11\"",
   "execution_count": null
  },
  {
   "cell_type": "code",
   "id": "a473aaf7-23fc-492c-b8a5-0c263be907ba",
   "metadata": {
    "language": "python",
    "name": "cell9"
   },
   "outputs": [],
   "source": "from snowflake.ml.modeling.xgboost import XGBRegressor\nfrom snowflake.ml.model import task, type_hints\nfrom snowflake.ml.registry import Registry\nfrom snowflake.snowpark.functions import col\nimport pandas as pd\n\n# 1️⃣ Load Data\ndf = (\n    session.table(\"STAGING.VW_MODEL_READY_FEATURES\")\n    # .filter(col(\"SYMBOL\") == \"ORCL\")\n    .filter(col(\"NEXT_DAY_CLOSE\").is_not_null())\n    .to_pandas()\n)\n\n# 2️⃣ Define columns\n# input_cols = [\n#     \"OPEN\", \"HIGH\", \"LOW\", \"CLOSE\", \"VOLUME\",\n#     \"MA_5\", \"MA_10\", \"MA_20\", \"EMA_12\", \"EMA_26\"\n# ]\n# input_cols = [\n#     # Core OHLCV\n#     \"OPEN\", \"HIGH\", \"LOW\", \"CLOSE\", \"VOLUME\",\n#     # Returns & price movement\n#     \"DAILY_RETURN\", \"LOG_RETURN\", \"PRICE_RANGE_PCT\",\n#     # Moving averages (trend indicators)\n#     \"MA_5\", \"MA_10\", \"MA_20\", \"MA_50\",\n#     \"EMA_12\", \"EMA_26\",\n#     # Momentum indicators\n#     \"RSI_14\", \"MACD\", \"MACD_SIGNAL\", \"MACD_HISTOGRAM\",\n#     # Volatility indicators\n#     \"VOLATILITY_5D\", \"VOLATILITY_10D\", \"VOLATILITY_20D\", \"ATR_14\",\n#     # Volume indicators\n#     \"VOLUME_MA_5\", \"VOLUME_MA_20\", \"VOLUME_RATIO\",\n#     # Lag and rolling features\n#     \"CLOSE_LAG_1\", \"CLOSE_LAG_2\", \"CLOSE_LAG_3\", \"CLOSE_LAG_5\",\n#     \"ROLLING_MAX_20\", \"ROLLING_MIN_20\",\n#     \"DISTANCE_FROM_HIGH_20\", \"DISTANCE_FROM_LOW_20\"\n# ]\ninput_cols = [\n    \"OPEN\", \"HIGH\", \"LOW\", \"CLOSE\", \"VOLUME\"\n    ,\"CLOSE_LAG_1\", \"CLOSE_LAG_2\"\n    , \"VOLATILITY_5D\"\n    \n    # ,\"MA_5\", \"MA_10\", \"MA_20\"\n]\nlabel_cols = \"NEXT_DAY_CLOSE\"\noutput_cols = \"PREDICTED_CLOSE\"\n\n# 3️⃣ Train model\nmodel = XGBRegressor(\n    input_cols=input_cols,\n    label_cols=label_cols,\n    output_cols=output_cols,\n    drop_input_cols=True,\n    n_estimators=200,\n    learning_rate=0.05,\n    max_depth=6,\n    random_state=42,\n)\nmodel.fit(df)\n\n# 4️⃣ Register with explainability\nreg = Registry(session)\n\nmv = reg.log_model(\n    model,\n    model_name=\"XGBRegressor_PricePredictor\",\n    version_name=GLOBAL_VERSION_NAME,\n    conda_dependencies=[\"snowflake-ml-python\", \"xgboost\"],\n    comment=\"Daily close price predictor with explainability\",\n    # metrics={\"RMSE\": model.evaluate(df)[\"rmse\"] if \"rmse\" in model.evaluate(df) else None},\n    sample_input_data=df[input_cols],\n    options={\"relax_version\": False},\n    task=task.Task.TABULAR_REGRESSION\n)\n",
   "execution_count": null
  },
  {
   "cell_type": "code",
   "id": "57e5eab3-6431-4e77-bd96-37641159a053",
   "metadata": {
    "language": "python",
    "name": "cell6"
   },
   "outputs": [],
   "source": "from sklearn.metrics import mean_absolute_error, mean_squared_error, r2_score\nimport numpy as np\n\n# Split your data into train/test if not already\nfrom sklearn.model_selection import train_test_split\n\nX = df[input_cols]\ny = df[label_cols]\n\nX_train, X_test, y_train, y_test = train_test_split(X, y, test_size=0.2, random_state=42)\n\n# preds = model.predict(X_test)\n# rmse = np.sqrt(mean_squared_error(y_test, preds))\n# mae = mean_absolute_error(y_test, preds)\n# r2 = r2_score(y_test, preds)\n# print(f\"RMSE: {rmse:.3f}, MAE: {mae:.3f}, R2: {r2:.3f}\")\n\n# 6️⃣ Evaluate on Test Set for Overfitting Check\npreds = model.predict(X_test)\nrmse = np.sqrt(mean_squared_error(y_test, preds))\nmae = mean_absolute_error(y_test, preds)\nr2 = r2_score(y_test, preds)\n\nprint(f\"Test Set Performance:\")\nprint(f\"RMSE: {rmse:.3f}, MAE: {mae:.3f}, R2: {r2:.3f}\")\n\n# ✅ Optional: compare train vs test metrics for overfitting diagnosis\ntrain_preds = model.predict(X_train)\ntrain_rmse = np.sqrt(mean_squared_error(y_train, train_preds))\ntrain_r2 = r2_score(y_train, train_preds)\n\nprint(f\"Train Set Performance:\")\nprint(f\"RMSE: {train_rmse:.3f}, R2: {train_r2:.3f}\")\n",
   "execution_count": null
  },
  {
   "cell_type": "code",
   "id": "f3788223-8ecd-4a41-8fd6-4ae42320f50d",
   "metadata": {
    "language": "python",
    "name": "cell7",
    "codeCollapsed": false
   },
   "outputs": [],
   "source": "from snowflake.ml.registry import Registry\n\n# Initialize registry\nreg = Registry(session)\n\n# Get model by name\nmodel_ref = reg.get_model(\"XGBRegressor_PricePredictor\")\n\n# Load specific version (v3)\nmodel_version = model_ref.version(GLOBAL_VERSION_NAME)\n\n# Load the actual model object\nmodel = model_version.load()\n",
   "execution_count": null
  },
  {
   "cell_type": "code",
   "execution_count": null,
   "id": "632b0a14-47c1-4204-aa07-dc2cb8872798",
   "metadata": {
    "codeCollapsed": false,
    "language": "python",
    "name": "CreatinbBaseDF"
   },
   "outputs": [],
   "source": "df = session.table(\"STAGING.VW_MODEL_READY_FEATURES\").filter(col(\"NEXT_DAY_CLOSE\").is_not_null())\n    # .filter(col(\"SYMBOL\") == \"ORCL\")\n\n# Generate predictions\npred_df = model.predict(df)\n\n# Save predictions into your analytics schema\npred_df.write.save_as_table(\n    \"ANALYTICS.PREDICTED_PRICES\",\n    mode=\"overwrite\"\n)\n"
  },
  {
   "cell_type": "code",
   "id": "1deb7e97-eb2c-4559-91c6-e8aa1bbdd39d",
   "metadata": {
    "language": "python",
    "name": "cell1",
    "codeCollapsed": false
   },
   "outputs": [],
   "source": "",
   "execution_count": null
  }
 ]
}