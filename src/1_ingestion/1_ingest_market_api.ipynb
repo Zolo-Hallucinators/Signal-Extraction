{
 "metadata": {
  "language_info": {
   "name": "python"
  },
  "lastEditStatus": {
   "notebookId": "f4tvo7j73v5nwdbqcjpn",
   "authorId": "65353703147",
   "authorName": "ARAVINDSURESH03",
   "authorEmail": "aravind.ofcl8@gmail.com",
   "sessionId": "b19a74b4-502a-4bbe-8634-314775e7b4f0",
   "lastEditTime": 1759648265392
  }
 },
 "nbformat_minor": 5,
 "nbformat": 4,
 "cells": [
  {
   "cell_type": "markdown",
   "id": "66e71084-5d94-4374-b69b-01cd1fad938f",
   "metadata": {
    "collapsed": false,
    "name": "TitleCell"
   },
   "source": [
    "# Market Data API Ingestion (Dynamic)"
   ]
  },
  {
   "cell_type": "markdown",
   "id": "d6f05a14-ed7b-4308-bc77-3e8172b24e46",
   "metadata": {
    "collapsed": false,
    "name": "PreRunActivity"
   },
   "source": "### Pre Run Activity\n- Make sure to tap the 3 dot icon on top left and enable the necessary 'External Access' integrations for the notebook.\n- Update the 'market_config.json' with the requirement before starting the run."
  },
  {
   "cell_type": "markdown",
   "id": "8e9259c8-e6f0-4952-9902-8404b53498b7",
   "metadata": {
    "collapsed": false,
    "name": "ConfigSetupMD"
   },
   "source": [
    "## Runtime Config Set-Up"
   ]
  },
  {
   "cell_type": "code",
   "execution_count": null,
   "id": "7ffbfec7-1c19-4e66-bd1c-f6bfef55f3c0",
   "metadata": {
    "language": "python",
    "name": "ConfigSetUp"
   },
   "outputs": [],
   "source": "GLOBAL_CONFIG_PATH = \"market_config.json\""
  },
  {
   "cell_type": "markdown",
   "id": "634f3090-c61e-4696-a576-14ae691d1435",
   "metadata": {
    "collapsed": false,
    "name": "ImportLibMD"
   },
   "source": [
    "### Importing Libraries"
   ]
  },
  {
   "cell_type": "code",
   "execution_count": null,
   "id": "8d1e36b5-4ba8-4b9e-b2d6-05d662d8ff14",
   "metadata": {
    "language": "python",
    "name": "ImportLib"
   },
   "outputs": [],
   "source": [
    "import requests\n",
    "import json\n",
    "import pandas as pd\n",
    "from datetime import date, timedelta, datetime\n",
    "import math\n",
    "import warnings\n",
    "from bs4 import BeautifulSoup\n",
    "import time\n",
    "import random\n",
    "import snowflake.connector\n",
    "from urllib.parse import urlparse\n",
    "import hashlib\n",
    "from snowflake.connector.pandas_tools import write_pandas"
   ]
  },
  {
   "cell_type": "markdown",
   "id": "809c73e6-da10-4164-b22d-d7e6b39c0266",
   "metadata": {
    "collapsed": false,
    "name": "RunAutoPickupMD"
   },
   "source": [
    "### Auto Run-Name Initiationa Code"
   ]
  },
  {
   "cell_type": "code",
   "execution_count": null,
   "id": "c0efd7b7-cc45-43ab-b07e-cf35772a45c7",
   "metadata": {
    "language": "python",
    "name": "RunAutoPickup"
   },
   "outputs": [],
   "source": "def get_config(CONFIG_PATH=\"market_config.json\"):\n    with open(CONFIG_PATH) as f:\n        config = json.load(f)\n    return config\nconfig = get_config(GLOBAL_CONFIG_PATH) #DEBUG\n\nGLOBAL_RUN_NAME = config['run_auto_pickup']\nprint(f'GLOBAL_RUN_NAME: {GLOBAL_RUN_NAME}')"
  },
  {
   "cell_type": "markdown",
   "id": "840fb21b-4c15-4861-a795-914b47a6e9b5",
   "metadata": {
    "collapsed": false,
    "name": "EndpointTestMD"
   },
   "source": [
    "### Testing Endpoint"
   ]
  },
  {
   "cell_type": "code",
   "execution_count": null,
   "id": "6c158b0c-1942-4e37-a6ac-b2d8f9289c4e",
   "metadata": {
    "language": "python",
    "name": "EndpointTest"
   },
   "outputs": [],
   "source": "resp = requests.get('https://www.alphavantage.co/query?function=TIME_SERIES_DAILY&outputsize=full&symbol=ORCL&apikey=ESDNSG7Y1KQ6CZ9K')\nlen(resp.json())\n# print(resp.json())\nresp.json().keys()"
  },
  {
   "cell_type": "markdown",
   "id": "5e6212bf-57f4-4097-af51-49b50d2b728b",
   "metadata": {
    "collapsed": false,
    "name": "MainCodeMD"
   },
   "source": [
    "## Main Code"
   ]
  },
  {
   "cell_type": "code",
   "execution_count": null,
   "id": "7d68cb81-c365-40fe-a5d3-af1aea7d0735",
   "metadata": {
    "codeCollapsed": false,
    "language": "python",
    "name": "ConfigLoad"
   },
   "outputs": [],
   "source": "def get_config_run(run_name):\n    config = get_config()\n    config_run = next((r for r in config['runs'] if r['run_name'] == run_name), None)\n    return config_run\n\ndef get_config_snowflake():\n    config = get_config()\n    config_snowflake = config[\"snowflake\"]\n    return config_snowflake\n\ndef get_snowlfake_conn(schema_name):\n    config_snowflake = get_config_snowflake()\n    conn = snowflake.connector.connect(\n        user=config_snowflake[\"user\"],\n        password=config_snowflake[\"password\"],\n        account=config_snowflake[\"account\"],\n        warehouse=config_snowflake[\"warehouse\"],\n        database=config_snowflake[\"database\"],\n        schema=schema_name # SQL Specific\n    )\n    return conn\n    \nGLOBAL_CONFIG = get_config() #DEBUG\nGLOBAL_CONFIG_RUN = get_config_run(GLOBAL_RUN_NAME)\nconfig_snowflake = get_config_snowflake()\nprint(GLOBAL_CONFIG, GLOBAL_CONFIG_RUN, config_snowflake)"
  },
  {
   "cell_type": "code",
   "execution_count": null,
   "id": "a31cbd32-6636-4312-9902-7e2169e1ab38",
   "metadata": {
    "codeCollapsed": false,
    "language": "python",
    "name": "URLString"
   },
   "outputs": [],
   "source": "def create_url_string(config_run, config):\n    \n    url_string = f\"\"\"\n        {config_run[\"endpoint\"]}?\n        function={config_run[\"function\"]}&\n        symbol={config_run[\"symbol\"]}&\n        datatype={config_run[\"datatype\"]}&\n        outputsize={config_run[\"outputsize\"]}&\n        apikey={config[\"market_api_key_list\"][config[\"market_api_key_auto_pickup\"]]}\n    \"\"\"\n    url_string = url_string.replace(' ', '').replace('\\n', '')\n\n    # resp = requests.get('https://www.alphavantage.co/query?function=TIME_SERIES_DAILY&outputsize=full&symbol=ORCL&apikey=ESDNSG7Y1KQ6CZ9K')\n    # data = resp.json()\n    # print(len(data))\n    # print(data.keys())\n    # print(data)\n\n    print(url_string)\n    return url_string\n\n# config_run = get_config_run(GLOBAL_RUN_NAME) \nurl_string = create_url_string(GLOBAL_CONFIG_RUN, GLOBAL_CONFIG)\nprint(f'url_string: {url_string}')"
  },
  {
   "cell_type": "code",
   "execution_count": null,
   "id": "6feb7410-9596-47e3-b57f-deed0d937a43",
   "metadata": {
    "codeCollapsed": false,
    "collapsed": false,
    "language": "python",
    "name": "ToFetchMarket"
   },
   "outputs": [],
   "source": "def fetch_market_data(url_string):\n    \"\"\"\n    Fetches news, makes sures all the pages are scraped\n    \"\"\"\n    # print(url_string)\n    response = requests.get(url_string)\n    data = response.json()\n    # print(data)\n\n    print(type(data), response.json().keys())\n    time_series_dict = data['Time Series (Daily)'] #returns a dict of dicts\n    total_results = len(time_series_dict)\n    print(f\"No. of Time Series data points: {total_results}\")\n    \n    # print(time_series_dict, len(time_series_dict))\n    return time_series_dict\n\nurl_string = create_url_string(GLOBAL_CONFIG_RUN, GLOBAL_CONFIG)\n# print(f'url_string: {url_string}')\ntime_series_dict = fetch_market_data(url_string)\nprint(time_series_dict)"
  },
  {
   "cell_type": "code",
   "execution_count": null,
   "id": "632b0a14-47c1-4204-aa07-dc2cb8872798",
   "metadata": {
    "codeCollapsed": false,
    "language": "python",
    "name": "CreatinbBaseDF"
   },
   "outputs": [],
   "source": "def marketdata_to_df(time_series_dict):\n    \n    # Convert to DataFrame\n    df = pd.DataFrame.from_dict(time_series_dict, orient='index').reset_index()\n    \n    # Rename columns\n    df.rename(columns={'index': 'date'}, inplace=True)\n\n    column_rename_mapping = {\n        '1. open': 'open', \n        '2. high': 'high', \n        '3. low': 'low',\n        '4. close': 'close',\n        '5. volume': 'volume'\n    }\n    df = df.rename(columns=column_rename_mapping)\n    df[\"symbol\"] = GLOBAL_CONFIG_RUN[\"symbol\"]\n    df[\"function\"] = GLOBAL_CONFIG_RUN[\"function\"]\n    print(df.columns)\n    \n    return df\n\ndf = marketdata_to_df(time_series_dict)\ndf.head(3)"
  },
  {
   "cell_type": "markdown",
   "id": "35583064-8829-4510-b24f-230743eacd76",
   "metadata": {
    "collapsed": false,
    "name": "UpdatingSchemaMD"
   },
   "source": [
    "## Pushing to RAW Schema"
   ]
  },
  {
   "cell_type": "code",
   "execution_count": null,
   "id": "46c72de0-c6b8-449e-b669-3d29dd2dfcc2",
   "metadata": {
    "codeCollapsed": false,
    "language": "python",
    "name": "PreprocessDF"
   },
   "outputs": [],
   "source": "def preprocess_dataframe(df):\n    \"\"\"\n    Creating the primary key hash & ingested_at value.\n    \"\"\"\n    df = df.copy()\n    df[\"price_id\"] = df.apply(\n        lambda row: hashlib.sha1(f\"{row['date']}_{row['symbol']}_{row['function']}\".encode()).hexdigest(),\n        axis=1\n    )\n    \n    # df[\"ingested_at\"] = pd.Timestamp.now(tz=\"UTC\").tz_localize(None) #Done at SQL Level\n    \n    print(f'df.columns: {df.columns}')\n    return df\n\ndf = preprocess_dataframe(df)\ndf.head(3)"
  },
  {
   "cell_type": "code",
   "execution_count": null,
   "id": "4d11bad1-e553-4337-a637-03325f5326e8",
   "metadata": {
    "codeCollapsed": false,
    "language": "python",
    "name": "CreateTempTable"
   },
   "outputs": [],
   "source": "# Creating a Temp view & table - Session Scoped\ndef create_temp_table_from_df(df, temp_table):\n    \"\"\"\n    Creating a Temp Table (Session Scoped), can be used within the notebook.\n    \"\"\"\n\n    conn = get_snowlfake_conn(schema_name=\"RAW\") #Table is not created in RAW, it is created in session-scope\n    cur = conn.cursor()\n\n    try:\n        # Drop old temp table if exists\n        cur.execute(f\"DROP TABLE IF EXISTS {temp_table}\")\n\n        # Write dataframe to a temp table\n        success, nchunks, nrows, _ = write_pandas(\n            conn, \n            df, \n            table_name=temp_table, \n            auto_create_table=True, \n            overwrite=True, \n            quote_identifiers=False,\n            use_logical_type=True\n        )\n\n        print(f\"[INFO] Temp table created: {temp_table}, Rows inserted: {nrows}\")\n    \n    finally:\n        cur.close()\n        conn.close()\n    \ncreate_temp_table_from_df(df, temp_table=\"MARKET_DATA_TEMP\")"
  },
  {
   "cell_type": "code",
   "execution_count": null,
   "id": "3cd5d770-c69b-4732-ab0c-e5277b0b77f4",
   "metadata": {
    "codeCollapsed": false,
    "language": "sql",
    "name": "TestQuery"
   },
   "outputs": [],
   "source": "SELECT * FROM MARKET_DATA_TEMP LIMIT 3;"
  },
  {
   "cell_type": "code",
   "execution_count": null,
   "id": "7575108e-2d36-4ede-93d9-13b3458d8b14",
   "metadata": {
    "language": "sql",
    "name": "MainDBTable",
    "codeCollapsed": false
   },
   "outputs": [],
   "source": "-- DROP TABLE SIGNAL_EXTRACTION_DB.RAW.MARKET_DATA;\nCREATE TABLE IF NOT EXISTS SIGNAL_EXTRACTION_DB.RAW.MARKET_DATA (\n    date DATE,\n    open NUMBER(10,4),\n    high NUMBER(10,4),\n    low NUMBER(10,4),\n    close NUMBER(10,4),\n    volume NUMBER(20,4),\n    symbol STRING,\n    function STRING,\n    price_id STRING PRIMARY KEY,\n    ingested_at TIMESTAMP_NTZ DEFAULT CURRENT_TIMESTAMP\n);"
  },
  {
   "cell_type": "code",
   "execution_count": null,
   "id": "2d0d5027-cd66-42b5-87e2-20a425220a94",
   "metadata": {
    "codeCollapsed": false,
    "language": "sql",
    "name": "MainMergeQuery"
   },
   "outputs": [],
   "source": "MERGE INTO SIGNAL_EXTRACTION_DB.RAW.MARKET_DATA AS target\nUSING MARKET_DATA_TEMP AS source\nON target.price_id = source.price_id\n-- WHEN MATCHED THEN UPDATE SET //No need to update since immutable, past values for a symbol will not change.\n--     target.date     = source.date,\n--     target.open     = source.open,\n--     target.high     = source.high,\n--     target.low      = source.low,\n--     target.close    = source.close,\n--     target.volume   = source.volume,\n--     target.symbol   = source.symbol,\n--     target.function = source.function,\n--     target.ingested_at = CURRENT_TIMESTAMP\nWHEN NOT MATCHED THEN\n    INSERT (\n        date, open, high, low, close, volume, symbol, function, price_id, ingested_at\n    )\n    VALUES (\n        source.date, source.open, source.high, source.low, source.close, \n        source.volume, source.symbol, source.function, source.price_id, CURRENT_TIMESTAMP\n    );"
  },
  {
   "cell_type": "code",
   "execution_count": null,
   "id": "e66afbcc-44c7-491c-b4b6-1b31fc25c2e3",
   "metadata": {
    "codeCollapsed": false,
    "language": "sql",
    "name": "TestQuery2"
   },
   "outputs": [],
   "source": "SELECT * FROM SIGNAL_EXTRACTION_DB.RAW.MARKET_DATA LIMIT 3;"
  },
  {
   "cell_type": "code",
   "id": "6688a9ec-c4ec-4908-96c6-c0d0927d14ea",
   "metadata": {
    "language": "sql",
    "name": "cell1"
   },
   "outputs": [],
   "source": "SELECT SYMBOL, COUNT(DATE) as ROW_COUNT\nFROM SIGNAL_EXTRACTION_DB.RAW.MARKET_DATA\nGROUP BY SYMBOL;",
   "execution_count": null
  },
  {
   "cell_type": "markdown",
   "id": "2ffddb06-b4f0-4113-b1a9-bae93992e223",
   "metadata": {
    "collapsed": false,
    "name": "FutureDevelopMD"
   },
   "source": [
    "## Future Developement"
   ]
  },
  {
   "cell_type": "code",
   "execution_count": null,
   "id": "1b6a4ef3-91d4-49b6-abec-e77e5a45a3b0",
   "metadata": {
    "codeCollapsed": false,
    "language": "sql",
    "name": "EntityMapTest"
   },
   "outputs": [],
   "source": "-- TODO: Change the hash functions so that we can take low frequency values as well."
  }
 ]
}