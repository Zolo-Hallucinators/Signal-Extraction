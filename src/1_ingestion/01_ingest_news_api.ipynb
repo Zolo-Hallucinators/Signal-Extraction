{
 "cells": [
  {
   "cell_type": "markdown",
   "id": "fe3a64b4",
   "metadata": {},
   "source": [
    "# NEWS API Ingestion"
   ]
  },
  {
   "cell_type": "markdown",
   "id": "0ef70b8b",
   "metadata": {},
   "source": []
  }
 ],
 "metadata": {
  "language_info": {
   "name": "python"
  }
 },
 "nbformat": 4,
 "nbformat_minor": 5
}
