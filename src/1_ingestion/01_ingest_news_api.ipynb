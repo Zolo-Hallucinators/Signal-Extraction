{
 "metadata": {
  "language_info": {
   "name": "python"
  },
  "lastEditStatus": {
   "notebookId": "ww6kgwpovoyptdas2e5z",
   "authorId": "3911389675025",
   "authorName": "ARAVINDSURESH",
   "authorEmail": "aravind.2002.suresh@gmail.com",
   "sessionId": "6497897c-a067-4b09-a2e3-08a45bebc056",
   "lastEditTime": 1757358379665
  }
 },
 "nbformat_minor": 5,
 "nbformat": 4,
 "cells": [
  {
   "cell_type": "markdown",
   "id": "66e71084-5d94-4374-b69b-01cd1fad938f",
   "metadata": {
    "name": "cell1",
    "collapsed": false
   },
   "source": "# NEWS API Ingestion (Dynamic)"
  },
  {
   "cell_type": "markdown",
   "id": "7e37f668-b3b0-415e-a5bc-3045910cd983",
   "metadata": {
    "name": "cell4",
    "collapsed": false
   },
   "source": "### Before Starting\n- By default snowflake is locked out.\n- need to create a rule to allow this particular api."
  },
  {
   "cell_type": "code",
   "id": "a31cbd32-6636-4312-9902-7e2169e1ab38",
   "metadata": {
    "language": "python",
    "name": "cell2"
   },
   "outputs": [],
   "source": "# Setting the variables (TODO: Need to keep this as a separate file that is passed to this file, later on.)\nTEST_VARIABLE = 1",
   "execution_count": null
  },
  {
   "cell_type": "code",
   "id": "838089ac-3745-4ed7-971b-9a64bd8c77be",
   "metadata": {
    "language": "python",
    "name": "cell3"
   },
   "outputs": [],
   "source": "import requests\n\nurl = ('https://newsapi.org/v2/everything?'\n       'q=Apple&'\n       'from=2025-09-01&'\n       'sortBy=popularity&'\n       'apiKey=c494f280427646c78473013990b3cd45')\n\nresponse = requests.get(url)\n\nprint(response.json())",
   "execution_count": null
  },
  {
   "cell_type": "code",
   "id": "a3a2f000-3f35-4e71-b421-8d09b0be2a99",
   "metadata": {
    "language": "python",
    "name": "cell5"
   },
   "outputs": [],
   "source": "",
   "execution_count": null
  }
 ]
}