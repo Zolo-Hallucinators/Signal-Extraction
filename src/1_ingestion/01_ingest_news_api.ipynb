{
 "metadata": {
  "language_info": {
   "name": "python"
  },
  "lastEditStatus": {
   "notebookId": "ww6kgwpovoyptdas2e5z",
   "authorId": "3911389675025",
   "authorName": "ARAVINDSURESH",
   "authorEmail": "aravind.2002.suresh@gmail.com",
   "sessionId": "55df445f-6ed7-4e83-8a10-3124c988d12c",
   "lastEditTime": 1757361996277
  }
 },
 "nbformat_minor": 5,
 "nbformat": 4,
 "cells": [
  {
   "cell_type": "markdown",
   "id": "66e71084-5d94-4374-b69b-01cd1fad938f",
   "metadata": {
    "name": "cell1",
    "collapsed": false
   },
   "source": "# NEWS API Ingestion (Dynamic)"
  },
  {
   "cell_type": "markdown",
   "id": "7e37f668-b3b0-415e-a5bc-3045910cd983",
   "metadata": {
    "name": "cell4",
    "collapsed": false
   },
   "source": "### Before Starting\n- By default snowflake is locked out.\n- need to create a rule to allow this particular api."
  },
  {
   "cell_type": "code",
   "id": "a31cbd32-6636-4312-9902-7e2169e1ab38",
   "metadata": {
    "language": "python",
    "name": "cell2"
   },
   "outputs": [],
   "source": "# Setting the variables\nsession = get_active_session()\n\n# NEWS API Variables (TODO: Easier to keep this info in a table than to keep it in a config file)\nversion = 'v1'\napi_key = 'c494f280427646c78473013990b3cd45'\nendpoint = 'https://newsapi.org/v2/everything' #(top-headline)\nq = 'bitcoin' \nsearchIn = 'title,description' #(title, description, content)\nsources = ''\ndomains = ''\nexcludeDomains = ''\nvar_from = '2025-09-01' #ISO formatted date (yyyy-mm-dd)\nvar_to = '2025-09-08'\nlanguage = 'en'\nsortby = 'popularity' # elevancy, popularity, publishedAt\npageSize = '' #Default is 100, Max is 100\npage = '' #Default 1\nvariables_used_list = [endpoint, q, searchIn, var_from, var_to, api_key] #Syntax: [endpoint, ..., api_key]\n\n# Final String\nurl_string = f\"\"\"\n    {endpoint}?\n    q={q}&\n    language={language}&\n    searchIn={searchIn}&\n    from={var_from}&\n    to={var_to}&\n    sortBy={sortby}&\n    page=3&\n    apiKey={api_key}\n\"\"\"\nurl_string = url_string.replace(' ', '').replace('\\n', '')\nprint(url_string)",
   "execution_count": null
  },
  {
   "cell_type": "code",
   "id": "6feb7410-9596-47e3-b57f-deed0d937a43",
   "metadata": {
    "language": "python",
    "name": "cell6",
    "codeCollapsed": false
   },
   "outputs": [],
   "source": "# Setting session up\nfrom snowflake.snowpark import Session\n\n# Importing required libraries\nimport requests\nimport json\nimport pandas",
   "execution_count": null
  },
  {
   "cell_type": "code",
   "id": "838089ac-3745-4ed7-971b-9a64bd8c77be",
   "metadata": {
    "language": "python",
    "name": "cell3",
    "codeCollapsed": false
   },
   "outputs": [],
   "source": "response = requests.get(url_string)\nprint(response.json())",
   "execution_count": null
  },
  {
   "cell_type": "code",
   "id": "a3a2f000-3f35-4e71-b421-8d09b0be2a99",
   "metadata": {
    "language": "python",
    "name": "cell5",
    "codeCollapsed": false
   },
   "outputs": [],
   "source": "",
   "execution_count": null
  }
 ]
}